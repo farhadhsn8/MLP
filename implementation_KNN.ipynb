{
  "nbformat": 4,
  "nbformat_minor": 0,
  "metadata": {
    "colab": {
      "name": "implementation_KNN.ipynb",
      "provenance": [],
      "collapsed_sections": [],
      "authorship_tag": "ABX9TyOaQqMQDlZlGFCFHWO7WLji",
      "include_colab_link": true
    },
    "kernelspec": {
      "name": "python3",
      "display_name": "Python 3"
    },
    "language_info": {
      "name": "python"
    }
  },
  "cells": [
    {
      "cell_type": "markdown",
      "metadata": {
        "id": "view-in-github",
        "colab_type": "text"
      },
      "source": [
        "<a href=\"https://colab.research.google.com/github/farhadhsn8/MLP/blob/master/implementation_KNN.ipynb\" target=\"_parent\"><img src=\"https://colab.research.google.com/assets/colab-badge.svg\" alt=\"Open In Colab\"/></a>"
      ]
    },
    {
      "cell_type": "code",
      "execution_count": null,
      "metadata": {
        "id": "DEvFmHQecFOC"
      },
      "outputs": [],
      "source": [
        "import matplotlib.pyplot as plt\n",
        "from sklearn import datasets\n",
        "import random\n",
        "import numpy as np\n",
        "import math\n",
        "import pandas as pd\n",
        "import seaborn as sns\n",
        "from sklearn.preprocessing import OneHotEncoder\n",
        "from scipy.spatial import distance"
      ]
    },
    {
      "cell_type": "markdown",
      "source": [
        "## کامنت فراموش نشود"
      ],
      "metadata": {
        "id": "nRiAT1Z1tXhL"
      }
    },
    {
      "cell_type": "code",
      "source": [
        "class KNN:\n",
        "  def __init__(self, features , targets ,queryData, K = 1 ,typeOfDistance = 0  ):\n",
        "    \"\"\"\n",
        "    Construct a new KNN object.\n",
        "    :param K: number of nearest neighbor -> default : 1\n",
        "    :param  features , targets: all of dataset\n",
        "    :param typeOfDistance: determine type of computing distance -> 0:euclideanDistance(default) , 1:manhattanDistance , 2:cosineDistance\n",
        "    :param queryData: queryData \n",
        "    \"\"\"\n",
        "    self.K = K\n",
        "    self.features = features\n",
        "    self.targets = targets\n",
        "    self.typeOfDistance = typeOfDistance\n",
        "    self.queryData = queryData\n",
        "\n",
        "  def predictClassOfQueryData(self):\n",
        "    KNN = np.ones((2,self.K)) * math.inf\n",
        "    for i in range(self.features.shape[0]):\n",
        "      self.updateKNN(KNN , self.features[i] ,i)\n",
        "    return KNN\n",
        "\n",
        "\n",
        "  def updateKNN(self , KNN , row , indexOfRow):\n",
        "    indexOfMaxDistance = np.argmax(KNN[0])\n",
        "    distance = self.computeDistance(row)\n",
        "    if distance < KNN[0,indexOfMaxDistance] :\n",
        "      KNN.T[indexOfMaxDistance] = distance , indexOfRow\n",
        "\n",
        "  def computeDistance(self , row):\n",
        "    if (self.typeOfDistance == 0 ):\n",
        "      return distance.euclidean(row,self.queryData)\n",
        "    if (self.typeOfDistance == 1):\n",
        "      return distance.cdist(row,self.queryData, metric='cityblock')\n",
        "    if (self.typeOfDistance == 2):\n",
        "      return distance.cosine(row,self.queryData )\n",
        "\n",
        "    \n",
        "\n",
        "\n",
        "\n",
        "\n"
      ],
      "metadata": {
        "id": "ZhvSB68RjPf8"
      },
      "execution_count": null,
      "outputs": []
    },
    {
      "cell_type": "code",
      "source": [
        "iris = datasets.load_iris()\n",
        "features = iris.data  \n",
        "target = pd.get_dummies(iris.target).to_numpy()\n",
        "dataset = np.hstack(( features,target))\n",
        "dataset.shape\n",
        "#---------------shuffle---------------------\n",
        "from sklearn.utils import shuffle\n",
        "dataset=shuffle(dataset)\n",
        "dataset.shape\n"
      ],
      "metadata": {
        "colab": {
          "base_uri": "https://localhost:8080/"
        },
        "id": "d7-6uAfKlJfV",
        "outputId": "2438086d-e0a9-4620-903a-d6b1d34f46ca"
      },
      "execution_count": null,
      "outputs": [
        {
          "output_type": "execute_result",
          "data": {
            "text/plain": [
              "(150, 7)"
            ]
          },
          "metadata": {},
          "execution_count": 26
        }
      ]
    },
    {
      "cell_type": "code",
      "source": [
        "# model = KNN(np.array([[1,2],[50,18],[2,3],[51,22],[2,3],[3,2],[52,23],[2,3],[3,2],[50,14]]),np.array([[1,2],[2,3],[3,2]]) ,[50,14] ,3 )\n",
        "# model.predictClassOfQueryData()"
      ],
      "metadata": {
        "colab": {
          "base_uri": "https://localhost:8080/"
        },
        "id": "GjQnVKiXoTba",
        "outputId": "684682a5-08ad-462c-ae73-51c5a665e634"
      },
      "execution_count": null,
      "outputs": [
        {
          "output_type": "execute_result",
          "data": {
            "text/plain": [
              "array([[8.06225775, 4.        , 0.        ],\n",
              "       [3.        , 1.        , 9.        ]])"
            ]
          },
          "metadata": {},
          "execution_count": 28
        }
      ]
    },
    {
      "cell_type": "code",
      "source": [
        "model = KNN(dataset[:,0:4], dataset[:,4:7],dataset[0,0:4] ,5 )\n",
        "a = model.predictClassOfQueryData()\n",
        "\n",
        "print(dataset[0,:] , \"\\n\")\n",
        "for i in a.T:\n",
        "  print(dataset[int(i[1]),:])"
      ],
      "metadata": {
        "colab": {
          "base_uri": "https://localhost:8080/"
        },
        "id": "jM8O-GyaTxiI",
        "outputId": "dc69ce61-1436-4f21-cafe-b02f851c8829"
      },
      "execution_count": null,
      "outputs": [
        {
          "output_type": "stream",
          "name": "stdout",
          "text": [
            "[4.8 3.  1.4 0.3 1.  0.  0. ] \n",
            "\n",
            "[4.8 3.  1.4 0.3 1.  0.  0. ]\n",
            "[4.8 3.  1.4 0.1 1.  0.  0. ]\n",
            "[4.8 3.1 1.6 0.2 1.  0.  0. ]\n",
            "[4.9 3.  1.4 0.2 1.  0.  0. ]\n",
            "[4.9 3.1 1.5 0.2 1.  0.  0. ]\n"
          ]
        }
      ]
    },
    {
      "cell_type": "code",
      "source": [
        "sns.pairplot(pd.DataFrame(dataset[:,0:3],columns = ['Column_A','Column_B','Column_C']), hue=\"species\", height=3, diag_kind=\"kde\")"
      ],
      "metadata": {
        "id": "oVsAHXySRDfP"
      },
      "execution_count": null,
      "outputs": []
    },
    {
      "cell_type": "code",
      "source": [
        ""
      ],
      "metadata": {
        "id": "dhADSA4SUjdd"
      },
      "execution_count": null,
      "outputs": []
    }
  ]
}