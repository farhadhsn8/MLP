{
  "nbformat": 4,
  "nbformat_minor": 0,
  "metadata": {
    "colab": {
      "name": "implementation_GaussianNaiveBayes.ipynb",
      "provenance": [],
      "collapsed_sections": [],
      "authorship_tag": "ABX9TyN0miz6lFnLYsaIN/OtzKY+",
      "include_colab_link": true
    },
    "kernelspec": {
      "name": "python3",
      "display_name": "Python 3"
    },
    "language_info": {
      "name": "python"
    }
  },
  "cells": [
    {
      "cell_type": "markdown",
      "metadata": {
        "id": "view-in-github",
        "colab_type": "text"
      },
      "source": [
        "<a href=\"https://colab.research.google.com/github/farhadhsn8/implementation_ML_algorithms/blob/master/implementation_GaussianNaiveBayes.ipynb\" target=\"_parent\"><img src=\"https://colab.research.google.com/assets/colab-badge.svg\" alt=\"Open In Colab\"/></a>"
      ]
    },
    {
      "cell_type": "markdown",
      "source": [
        "## Attribute Information:\n",
        "\n",
        "1. sepal length in cm\n",
        "2. sepal width in cm\n",
        "3. petal length in cm\n",
        "4. petal width in cm\n",
        "\n",
        "## class:\n",
        "1. Iris Setosa\n",
        "2. Iris Versicolour\n",
        "3. Iris Virginica"
      ],
      "metadata": {
        "id": "y5SQBZIyjLPd"
      }
    },
    {
      "cell_type": "markdown",
      "source": [
        "ref :\n",
        "\n",
        " how working this algorithm \n",
        " :\n",
        " https://www.youtube.com/watch?v=H3EjCKtlVog\n",
        "\n"
      ],
      "metadata": {
        "id": "4VVKdu_GnDlk"
      }
    },
    {
      "cell_type": "code",
      "execution_count": 199,
      "metadata": {
        "id": "VcAqv8BZh2cb"
      },
      "outputs": [],
      "source": [
        "import matplotlib.pyplot as plt\n",
        "from sklearn import datasets\n",
        "import random\n",
        "import numpy as np\n",
        "import math\n",
        "import pandas as pd\n",
        "import seaborn as sns\n",
        "from sklearn.preprocessing import OneHotEncoder\n",
        "from scipy.spatial import distance\n",
        "Iris = sns.load_dataset(\"iris\")"
      ]
    },
    {
      "cell_type": "markdown",
      "source": [
        " # سه تا کلاس داریم . چهارتا ویزگی داریم .\n",
        "  #  گوسی هر کلاس در هر ویژگی را بدست میآوریم .\n",
        "  #   یعنی دوازده گوسی .\n",
        "  #  میتوانیم کلاس گوسی ایجاد کنیم . که هر گوسی یک میانگین و یک واریانس دارد \n",
        "  #    سپس بر اساس حاصضرب مقدار گوسی ها برای نمونه جدید تعیین میکنیم که نمونه متعلق به کدام کلاس است "
      ],
      "metadata": {
        "id": "KShqA_ggmH5a"
      }
    },
    {
      "cell_type": "code",
      "source": [
        "class GaussianNaiveBayes:\n",
        "  def __init__(self , features , targets):\n",
        "    self.features = features\n",
        "    self.targets = targets\n",
        "    self.gaussians = [ [ 0 for i in range(targets.shape[1]) ] for j in range(features.shape[1]) ]\n",
        "    print(self.gaussians)\n",
        "\n",
        "  def fitModel(self):\n",
        "    for i in range(len(self.gaussians)):\n",
        "      for j in range(len(self.gaussians[0])):\n",
        "        featureTarget = np.hstack((self.features[:,i].reshape(-1,1) , self.targets[:,j].reshape(-1,1)))\n",
        "        self.gaussians[i][j] = gaussian(featureTarget[featureTarget[:,1]==1,:])\n",
        "\n",
        "\n",
        "  def predict(self , Qdata):\n",
        "    likelihood = np.zeros(self.targets.shape[1])\n",
        "    for i in range(likelihood.shape[0]):\n",
        "      likelihood[i] = np.log(np.count_nonzero(self.targets[:,i] == 1) / self.targets.shape[0])\n",
        "      for j in range(self.features.shape[1]):\n",
        "        likelihood[i] += np.log(self.gaussians[j][i].computeGaussianFunc(Qdata[j]))\n",
        "\n",
        "    return np.argmax(likelihood) , likelihood\n",
        "\n",
        "       \n",
        "\n",
        "\n",
        "class gaussian():\n",
        "  def __init__(self , featureTarget):\n",
        "    self.mean = np.mean(featureTarget, axis=0)[0]\n",
        "    self.std =  np.std(featureTarget, axis=0)[0]\n",
        "\n",
        "  def computeGaussianFunc(self , x):\n",
        "    return (math.exp((((x - self.mean)/self.std)**2)/(-2))) / (self.std * math.sqrt(2 * math.pi)) "
      ],
      "metadata": {
        "id": "yJM97E6VjQ9O"
      },
      "execution_count": 216,
      "outputs": []
    },
    {
      "cell_type": "code",
      "source": [
        "def computeGaussianFunc(x):\n",
        "  mean = 7\n",
        "  std = 11\n",
        "  return (math.exp((((x - mean)/std)**2)/(-2))) / (std * math.sqrt(2 * math.pi))\n",
        "\n",
        "computeGaussianFunc(4)   "
      ],
      "metadata": {
        "colab": {
          "base_uri": "https://localhost:8080/"
        },
        "id": "bk-jyLvqTTH-",
        "outputId": "48759fc3-9a02-4dc0-d0d1-a6ac2f7e6840"
      },
      "execution_count": 217,
      "outputs": [
        {
          "output_type": "execute_result",
          "data": {
            "text/plain": [
              "0.03494346222338718"
            ]
          },
          "metadata": {},
          "execution_count": 217
        }
      ]
    },
    {
      "cell_type": "code",
      "source": [
        "np.zeros(5).shape[0]"
      ],
      "metadata": {
        "colab": {
          "base_uri": "https://localhost:8080/"
        },
        "id": "AWngr4n3b8ER",
        "outputId": "257ced04-9127-4ed7-fee4-272fcdb14a9a"
      },
      "execution_count": 218,
      "outputs": [
        {
          "output_type": "execute_result",
          "data": {
            "text/plain": [
              "5"
            ]
          },
          "metadata": {},
          "execution_count": 218
        }
      ]
    },
    {
      "cell_type": "code",
      "source": [
        "iris = datasets.load_iris()\n",
        "features = iris.data  \n",
        "target = iris.target\n",
        "dataset = np.hstack(( features,target.reshape(-1,1)))\n",
        "dataset.shape\n",
        "#---------------shuffle---------------------\n",
        "from sklearn.utils import shuffle\n",
        "dataset=shuffle(dataset)\n",
        "dataset.shape"
      ],
      "metadata": {
        "colab": {
          "base_uri": "https://localhost:8080/"
        },
        "id": "9qxLgLyOmkIb",
        "outputId": "7f3e23f8-65e3-4d13-f5a3-2840ee1fbb94"
      },
      "execution_count": 219,
      "outputs": [
        {
          "output_type": "execute_result",
          "data": {
            "text/plain": [
              "(150, 5)"
            ]
          },
          "metadata": {},
          "execution_count": 219
        }
      ]
    },
    {
      "cell_type": "code",
      "source": [
        "# g = sns.PairGrid(Iris, hue=\"species\")\n",
        "# g.map_diag(sns.histplot)\n",
        "# g.map_offdiag(sns.scatterplot)\n",
        "# g.add_legend()"
      ],
      "metadata": {
        "id": "dZg1jiD2mk3J"
      },
      "execution_count": 220,
      "outputs": []
    },
    {
      "cell_type": "code",
      "source": [
        "A = GaussianNaiveBayes(np.array([[25,2],[27,3],[6,31],[8,32],[78,48],[91,49],[82,61],[81,51],[5,32],[6,31],[28,4],[29,3]]),np.array([[1,0,0],[1,0,0],[0,1,0],[0,1,0],[0,0,1],[0,0,1],[0,0,1],[0,0,1],[0,1,0],[0,1,0],[1,0,0],[1,0,0]]))\n",
        "\n",
        "A.fitModel()\n",
        "\n",
        "A.predict([5.5,31])\n",
        "\n"
      ],
      "metadata": {
        "colab": {
          "base_uri": "https://localhost:8080/"
        },
        "id": "IXCosndgmnge",
        "outputId": "08d0cfd7-a6d4-449c-b059-ccc26fc68936"
      },
      "execution_count": 226,
      "outputs": [
        {
          "output_type": "stream",
          "name": "stdout",
          "text": [
            "[[0, 0, 0], [0, 0, 0]]\n"
          ]
        },
        {
          "output_type": "stream",
          "name": "stderr",
          "text": [
            "/usr/local/lib/python3.7/dist-packages/ipykernel_launcher.py:20: RuntimeWarning: divide by zero encountered in log\n"
          ]
        },
        {
          "output_type": "execute_result",
          "data": {
            "text/plain": [
              "(1, array([         -inf,   -3.06610941, -142.40982776]))"
            ]
          },
          "metadata": {},
          "execution_count": 226
        }
      ]
    },
    {
      "cell_type": "code",
      "source": [
        "g = [ [ 0 for i in range(5) ] for j in range(4) ]\n",
        "g[0][0] = 5\n",
        "g[0][1] = 6\n",
        "g[1][0] = 7\n",
        "g[1][1] = 8\n",
        "g"
      ],
      "metadata": {
        "colab": {
          "base_uri": "https://localhost:8080/"
        },
        "id": "YSZcIYq3z65e",
        "outputId": "7c832976-36f9-4771-ce4a-2a98ce32e5ff"
      },
      "execution_count": 222,
      "outputs": [
        {
          "output_type": "execute_result",
          "data": {
            "text/plain": [
              "[[5, 6, 0, 0, 0], [7, 8, 0, 0, 0], [0, 0, 0, 0, 0], [0, 0, 0, 0, 0]]"
            ]
          },
          "metadata": {},
          "execution_count": 222
        }
      ]
    },
    {
      "cell_type": "code",
      "source": [
        ""
      ],
      "metadata": {
        "id": "_yhLQCR2K8hA"
      },
      "execution_count": null,
      "outputs": []
    }
  ]
}