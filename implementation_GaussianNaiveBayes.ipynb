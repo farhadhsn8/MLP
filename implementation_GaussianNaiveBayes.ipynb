{
  "nbformat": 4,
  "nbformat_minor": 0,
  "metadata": {
    "colab": {
      "name": "implementation_GaussianNaiveBayes.ipynb",
      "provenance": [],
      "collapsed_sections": [],
      "authorship_tag": "ABX9TyMyMuSxY3XC0Ap5+cklWDTf",
      "include_colab_link": true
    },
    "kernelspec": {
      "name": "python3",
      "display_name": "Python 3"
    },
    "language_info": {
      "name": "python"
    }
  },
  "cells": [
    {
      "cell_type": "markdown",
      "metadata": {
        "id": "view-in-github",
        "colab_type": "text"
      },
      "source": [
        "<a href=\"https://colab.research.google.com/github/farhadhsn8/implementation_ML_algorithms/blob/master/implementation_GaussianNaiveBayes.ipynb\" target=\"_parent\"><img src=\"https://colab.research.google.com/assets/colab-badge.svg\" alt=\"Open In Colab\"/></a>"
      ]
    },
    {
      "cell_type": "markdown",
      "source": [
        "## Attribute Information:\n",
        "\n",
        "1. sepal length in cm\n",
        "2. sepal width in cm\n",
        "3. petal length in cm\n",
        "4. petal width in cm\n",
        "\n",
        "## class:\n",
        "1. Iris Setosa\n",
        "2. Iris Versicolour\n",
        "3. Iris Virginica"
      ],
      "metadata": {
        "id": "y5SQBZIyjLPd"
      }
    },
    {
      "cell_type": "markdown",
      "source": [
        "ref :\n",
        "\n",
        " how working this algorithm \n",
        " :\n",
        " https://www.youtube.com/watch?v=H3EjCKtlVog\n",
        "\n"
      ],
      "metadata": {
        "id": "4VVKdu_GnDlk"
      }
    },
    {
      "cell_type": "code",
      "execution_count": 1,
      "metadata": {
        "id": "VcAqv8BZh2cb"
      },
      "outputs": [],
      "source": [
        "import matplotlib.pyplot as plt\n",
        "from sklearn import datasets\n",
        "import random\n",
        "import numpy as np\n",
        "import math\n",
        "import pandas as pd\n",
        "import seaborn as sns\n",
        "from sklearn.preprocessing import OneHotEncoder\n",
        "from scipy.spatial import distance\n",
        "Iris = sns.load_dataset(\"iris\")"
      ]
    },
    {
      "cell_type": "code",
      "source": [
        "class GaussianNaiveBayes:\n",
        "  سه تا کلاس داریم . چهارتا ویزگی داریم .\n",
        "   گوسی هر کلاس در هر ویژگی را بدست میآوریم .\n",
        "    یعنی دوازده گوسی .\n",
        "   میتوانیم کلاس گوسی ایجاد کنیم . که هر گوسی یک میانگین و یک واریانس دارد \n",
        "     سپس بر اساس حاصضرب مقدار گوسی ها برای نمونه جدید تعیین میکنیم که نمونه متعلق به کدام کلاس است "
      ],
      "metadata": {
        "id": "yJM97E6VjQ9O"
      },
      "execution_count": null,
      "outputs": []
    }
  ]
}