{
  "nbformat": 4,
  "nbformat_minor": 0,
  "metadata": {
    "colab": {
      "name": "bagging_randomForest.ipynb",
      "provenance": [],
      "collapsed_sections": [],
      "authorship_tag": "ABX9TyNh65nqssWc91v3NL4Vl5RZ",
      "include_colab_link": true
    },
    "kernelspec": {
      "name": "python3",
      "display_name": "Python 3"
    },
    "language_info": {
      "name": "python"
    }
  },
  "cells": [
    {
      "cell_type": "markdown",
      "metadata": {
        "id": "view-in-github",
        "colab_type": "text"
      },
      "source": [
        "<a href=\"https://colab.research.google.com/github/farhadhsn8/implementation_ML_algorithms/blob/master/bagging_randomForest.ipynb\" target=\"_parent\"><img src=\"https://colab.research.google.com/assets/colab-badge.svg\" alt=\"Open In Colab\"/></a>"
      ]
    },
    {
      "cell_type": "code",
      "source": [
        "import numpy as np"
      ],
      "metadata": {
        "id": "czdJuUfqcyyx"
      },
      "execution_count": 2,
      "outputs": []
    },
    {
      "cell_type": "code",
      "execution_count": 3,
      "metadata": {
        "colab": {
          "base_uri": "https://localhost:8080/",
          "height": 131
        },
        "id": "9k8KhBxG-eqQ",
        "outputId": "771faecb-b3ee-41fd-ab82-3e81e8ee6115"
      },
      "outputs": [
        {
          "output_type": "error",
          "ename": "IndentationError",
          "evalue": "ignored",
          "traceback": [
            "\u001b[0;36m  File \u001b[0;32m\"<ipython-input-3-a695f73924a4>\"\u001b[0;36m, line \u001b[0;32m14\u001b[0m\n\u001b[0;31m    root = Node(1)\u001b[0m\n\u001b[0m                  ^\u001b[0m\n\u001b[0;31mIndentationError\u001b[0m\u001b[0;31m:\u001b[0m expected an indented block\n"
          ]
        }
      ],
      "source": [
        "class decisionTree:\n",
        "  def __init__(self,features , targets , accuricyTreshold):\n",
        "    self.accuricyTreshold = accuricyTreshold\n",
        "    self.left = None\n",
        "    self.right = None\n",
        "    self.features = features\n",
        "    self.targets = targets\n",
        "    self.accuricy = None\n",
        "    self.label = None\n",
        "    self.isTerminalNode = False\n",
        "\n",
        "  def computeAccuricy(self):\n",
        "    self.accuricy = np.bincount(self.targets).max() / self.targets.shape[0]\n",
        "\n",
        "  def generateLabel(self):\n",
        "    if (self.accuricy >= self.accuricyTreshold ):\n",
        "      self.label = np.bincount(self.targets).argmax()\n",
        "      self.isTerminalNode = True\n",
        "\n",
        "      \n",
        "# create root\n",
        "root = Node(1)\n",
        "\n",
        " \n",
        "root.left      = Node(2);\n",
        "root.right     = Node(3);\n",
        "   \n",
        "root.left.left  = Node(4);\n"
      ]
    },
    {
      "cell_type": "code",
      "source": [
        "x = np.array([1,2,3,4,5,1,2,1,1,1])\n",
        "print(\"Original array:\")\n",
        "print(x)\n",
        "  \n",
        "print(\"Most frequent value in the above array:\")\n",
        "print(np.bincount(x).argmax())"
      ],
      "metadata": {
        "colab": {
          "base_uri": "https://localhost:8080/"
        },
        "id": "vrENvj8_cqzL",
        "outputId": "a412233e-e9a4-4a0f-d93a-5bc21169d299"
      },
      "execution_count": 7,
      "outputs": [
        {
          "output_type": "stream",
          "name": "stdout",
          "text": [
            "Original array:\n",
            "[1 2 3 4 5 1 2 1 1 1]\n",
            "Most frequent value in the above array:\n",
            "1\n"
          ]
        }
      ]
    },
    {
      "cell_type": "code",
      "source": [
        ""
      ],
      "metadata": {
        "id": "kj7JDsdecrba"
      },
      "execution_count": null,
      "outputs": []
    }
  ]
}