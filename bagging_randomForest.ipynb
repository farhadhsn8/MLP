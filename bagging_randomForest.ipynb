{
  "nbformat": 4,
  "nbformat_minor": 0,
  "metadata": {
    "colab": {
      "name": "bagging_randomForest.ipynb",
      "provenance": [],
      "collapsed_sections": [],
      "authorship_tag": "ABX9TyNDZJJvAC0EoOr1AWeUtrJL",
      "include_colab_link": true
    },
    "kernelspec": {
      "name": "python3",
      "display_name": "Python 3"
    },
    "language_info": {
      "name": "python"
    }
  },
  "cells": [
    {
      "cell_type": "markdown",
      "metadata": {
        "id": "view-in-github",
        "colab_type": "text"
      },
      "source": [
        "<a href=\"https://colab.research.google.com/github/farhadhsn8/implementation_ML_algorithms/blob/master/bagging_randomForest.ipynb\" target=\"_parent\"><img src=\"https://colab.research.google.com/assets/colab-badge.svg\" alt=\"Open In Colab\"/></a>"
      ]
    },
    {
      "cell_type": "code",
      "source": [
        "import numpy as np\n",
        "import math"
      ],
      "metadata": {
        "id": "czdJuUfqcyyx"
      },
      "execution_count": 2,
      "outputs": []
    },
    {
      "cell_type": "code",
      "execution_count": 2,
      "metadata": {
        "id": "9k8KhBxG-eqQ",
        "colab": {
          "base_uri": "https://localhost:8080/",
          "height": 355
        },
        "outputId": "530862ad-828f-444a-c261-deddd80d869b"
      },
      "outputs": [
        {
          "output_type": "error",
          "ename": "NameError",
          "evalue": "ignored",
          "traceback": [
            "\u001b[0;31m---------------------------------------------------------------------------\u001b[0m",
            "\u001b[0;31mNameError\u001b[0m                                 Traceback (most recent call last)",
            "\u001b[0;32m<ipython-input-2-9ead74e364f0>\u001b[0m in \u001b[0;36m<module>\u001b[0;34m()\u001b[0m\n\u001b[0;32m----> 1\u001b[0;31m \u001b[0;32mclass\u001b[0m \u001b[0mnode\u001b[0m\u001b[0;34m:\u001b[0m\u001b[0;34m\u001b[0m\u001b[0;34m\u001b[0m\u001b[0m\n\u001b[0m\u001b[1;32m      2\u001b[0m   \u001b[0;32mdef\u001b[0m \u001b[0m__init__\u001b[0m\u001b[0;34m(\u001b[0m\u001b[0mself\u001b[0m\u001b[0;34m,\u001b[0m\u001b[0mfeatures\u001b[0m \u001b[0;34m,\u001b[0m \u001b[0mtargets\u001b[0m \u001b[0;34m,\u001b[0m \u001b[0mpurityTreshold\u001b[0m\u001b[0;34m)\u001b[0m\u001b[0;34m:\u001b[0m\u001b[0;34m\u001b[0m\u001b[0;34m\u001b[0m\u001b[0m\n\u001b[1;32m      3\u001b[0m     \u001b[0mself\u001b[0m\u001b[0;34m.\u001b[0m\u001b[0mpurityTreshold\u001b[0m \u001b[0;34m=\u001b[0m \u001b[0mpurityTreshold\u001b[0m\u001b[0;34m\u001b[0m\u001b[0;34m\u001b[0m\u001b[0m\n\u001b[1;32m      4\u001b[0m     \u001b[0mself\u001b[0m\u001b[0;34m.\u001b[0m\u001b[0mleft\u001b[0m \u001b[0;34m=\u001b[0m \u001b[0;32mNone\u001b[0m\u001b[0;34m\u001b[0m\u001b[0;34m\u001b[0m\u001b[0m\n\u001b[1;32m      5\u001b[0m     \u001b[0mself\u001b[0m\u001b[0;34m.\u001b[0m\u001b[0mright\u001b[0m \u001b[0;34m=\u001b[0m \u001b[0;32mNone\u001b[0m\u001b[0;34m\u001b[0m\u001b[0;34m\u001b[0m\u001b[0m\n",
            "\u001b[0;32m<ipython-input-2-9ead74e364f0>\u001b[0m in \u001b[0;36mnode\u001b[0;34m()\u001b[0m\n\u001b[1;32m     43\u001b[0m \u001b[0;34m\u001b[0m\u001b[0m\n\u001b[1;32m     44\u001b[0m \u001b[0;34m\u001b[0m\u001b[0m\n\u001b[0;32m---> 45\u001b[0;31m   \u001b[0;32mclass\u001b[0m \u001b[0mID3\u001b[0m\u001b[0;34m(\u001b[0m\u001b[0mnode\u001b[0m\u001b[0;34m)\u001b[0m\u001b[0;34m:\u001b[0m\u001b[0;34m\u001b[0m\u001b[0;34m\u001b[0m\u001b[0m\n\u001b[0m\u001b[1;32m     46\u001b[0m     \u001b[0;32mdef\u001b[0m \u001b[0mfindBestFeature\u001b[0m\u001b[0;34m(\u001b[0m\u001b[0mself\u001b[0m\u001b[0;34m)\u001b[0m\u001b[0;34m:\u001b[0m\u001b[0;34m\u001b[0m\u001b[0;34m\u001b[0m\u001b[0m\n\u001b[1;32m     47\u001b[0m       \u001b[0;32mpass\u001b[0m\u001b[0;34m\u001b[0m\u001b[0;34m\u001b[0m\u001b[0m\n",
            "\u001b[0;31mNameError\u001b[0m: name 'node' is not defined"
          ]
        }
      ],
      "source": [
        "class node:\n",
        "  def __init__(self,features , targets , purityTreshold):\n",
        "    self.purityTreshold = purityTreshold\n",
        "    self.left = None\n",
        "    self.right = None\n",
        "    self.features = features\n",
        "    self.targets = targets\n",
        "    self.accuricy = None\n",
        "    self.label = None\n",
        "    self.isTerminalNode = False\n",
        "\n",
        "  def computeAccuricy(self):\n",
        "    self.accuricy = np.bincount(self.targets).max() / self.targets.shape[0]\n",
        "\n",
        "  def generateLabel(self):\n",
        "    if (self.accuricy >= self.purityTreshold ):\n",
        "      self.label = np.bincount(self.targets).argmax()\n",
        "      self.isTerminalNode = True\n",
        "\n",
        "\n",
        "\n",
        "  def findBestFeature(self):\n",
        "    pass\n",
        "\n",
        "\n",
        "\n",
        "    \n",
        "\n",
        "  def findBestTresholdPlaceOnFeature(self, feacherNumber):\n",
        "    FT = np.hstack((self.features[feacherNumber],self.targets))\n",
        "    max_acc = [0 , 0]\n",
        "    for i in range(FT.shape[0]):\n",
        "      smaller_filter = FT[:,0] <= FT[i,0]\n",
        "      bigger_filter = FT[:,0] > FT[i,0]\n",
        "      smaller_arr = FT[smaller_filter]\n",
        "      bigger_arr = FT[bigger_filter] \n",
        "      correct = np.bincount(smaller_arr)[np.bincount(smaller_arr).argmax()] + np.bincount(bigger_arr)[np.bincount(bigger_arr).argmax()]\n",
        "      acc = correct / FT.shape[0] \n",
        "      if acc > max_acc[1]:\n",
        "        max_acc = [i,acc]\n",
        "    return max_acc[0]\n",
        "\n",
        "\n",
        "\n",
        "class ID3(node):\n",
        "\n",
        "  def findBestFeature(self):\n",
        "    info_I = self.computeInfo_I()\n",
        "    max = [0,0]\n",
        "    for i in range(self.features.shape[1]):\n",
        "      tmp = self.computeInfo_I() - self.computeInfo_A(i)\n",
        "      if (tmp >= max[1]):\n",
        "        max = [i,tmp]\n",
        "    return max[0]\n",
        "\n",
        "\n",
        "  def computeInfo_I(self):\n",
        "    I=0\n",
        "    for i in np.bincount(self.targets.T):\n",
        "      if i == 0 :\n",
        "        I += 0\n",
        "      else:\n",
        "        A =  i / self.targets.shape[0]\n",
        "        I+= -A*math.log2(A)\n",
        "    return I\n",
        "\n",
        "\n",
        "  def computeInfo_A(self , indexOfFeature):\n",
        "    treshold = self.findBestTresholdPlaceOnFeature(indexOfFeature)\n",
        "    FT = np.hstack((self.features[indexOfFeature],self.targets))\n",
        "    smaller_filter = FT[:,0] <= treshold\n",
        "    bigger_filter = FT[:,0] > treshold\n",
        "    smaller_arr = FT[smaller_filter]\n",
        "    bigger_arr = FT[bigger_filter] \n",
        "\n",
        "    I_smaller = 0\n",
        "    I_bigger = 0\n",
        "    for i in range(np.bincount(self.targets.T).shape[0]):\n",
        "      A = np.bincount(smaller_arr)[i] / smaller_arr.shape[0]\n",
        "      B = np.bincount(bigger_arr)[i]  / bigger_arr.shape[0]\n",
        "      if A != 0 :\n",
        "         I_smaller += -A*math.log2(A)\n",
        "      if B != 0 :\n",
        "         I_bigger +=  -B*math.log2(B)\n",
        "    \n",
        "    return (I_smaller * (smaller_arr.shape[0] / FT.shape[0]) )  +  (I_bigger * (bigger_arr.shape[0] / FT.shape[0]) )\n",
        "\n",
        "\n",
        "\n",
        "\n",
        "\n",
        "\n",
        "\n",
        "\n",
        "\n",
        "\n",
        "    \n",
        "\n",
        "\n",
        "class decisionTree:\n",
        "  def __init__(self,features , targets , purityTreshold):\n",
        "    self.head = node(features , targets , purityTreshold)\n",
        "\n",
        "\n",
        "\n",
        "# create root\n",
        "# root = Node(1)\n",
        "\n",
        " \n",
        "# root.left      = Node(2);\n",
        "# root.right     = Node(3);\n",
        "   \n",
        "# root.left.left  = Node(4);\n"
      ]
    },
    {
      "cell_type": "code",
      "source": [
        "x = np.array([1,2,3,4,5,1,2,1,1,1])\n",
        "print(\"Original array:\")\n",
        "print(x)\n",
        "  \n",
        "print(\"Most frequent value in the above array:\")\n",
        "print(np.bincount(x)[3])"
      ],
      "metadata": {
        "colab": {
          "base_uri": "https://localhost:8080/"
        },
        "id": "vrENvj8_cqzL",
        "outputId": "1efd773d-94ce-4c79-c2d4-29bb508979df"
      },
      "execution_count": 4,
      "outputs": [
        {
          "output_type": "stream",
          "name": "stdout",
          "text": [
            "Original array:\n",
            "[1 2 3 4 5 1 2 1 1 1]\n",
            "Most frequent value in the above array:\n",
            "1\n"
          ]
        }
      ]
    },
    {
      "cell_type": "code",
      "source": [
        ""
      ],
      "metadata": {
        "id": "kj7JDsdecrba"
      },
      "execution_count": null,
      "outputs": []
    }
  ]
}