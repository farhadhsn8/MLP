{
  "nbformat": 4,
  "nbformat_minor": 0,
  "metadata": {
    "colab": {
      "name": "bagging_randomForest.ipynb",
      "provenance": [],
      "collapsed_sections": [],
      "authorship_tag": "ABX9TyP3WMPsuVNef/Ruww1nJx1M",
      "include_colab_link": true
    },
    "kernelspec": {
      "name": "python3",
      "display_name": "Python 3"
    },
    "language_info": {
      "name": "python"
    }
  },
  "cells": [
    {
      "cell_type": "markdown",
      "metadata": {
        "id": "view-in-github",
        "colab_type": "text"
      },
      "source": [
        "<a href=\"https://colab.research.google.com/github/farhadhsn8/implementation_ML_algorithms/blob/master/bagging_randomForest.ipynb\" target=\"_parent\"><img src=\"https://colab.research.google.com/assets/colab-badge.svg\" alt=\"Open In Colab\"/></a>"
      ]
    },
    {
      "cell_type": "code",
      "source": [
        "import numpy as np"
      ],
      "metadata": {
        "id": "czdJuUfqcyyx"
      },
      "execution_count": 3,
      "outputs": []
    },
    {
      "cell_type": "code",
      "execution_count": 4,
      "metadata": {
        "id": "9k8KhBxG-eqQ"
      },
      "outputs": [],
      "source": [
        "class node:\n",
        "  def __init__(self,features , targets , purityTreshold):\n",
        "    self.purityTreshold = purityTreshold\n",
        "    self.left = None\n",
        "    self.right = None\n",
        "    self.features = features\n",
        "    self.targets = targets\n",
        "    self.accuricy = None\n",
        "    self.label = None\n",
        "    self.isTerminalNode = False\n",
        "\n",
        "  def computeAccuricy(self):\n",
        "    self.accuricy = np.bincount(self.targets).max() / self.targets.shape[0]\n",
        "\n",
        "  def generateLabel(self):\n",
        "    if (self.accuricy >= self.purityTreshold ):\n",
        "      self.label = np.bincount(self.targets).argmax()\n",
        "      self.isTerminalNode = True\n",
        "\n",
        "  def findBestFeature(self):\n",
        "    max_purity = [0,0] \n",
        "    for i in range(self.features.shape[1]):\n",
        "      feature_trshold = self.findBestTresholdPlaceOnFeature(i)\n",
        "      #======================================!!!!!!!!!!!!!!!!!!!!!!!!!!!!!!!!!!!!!!\n",
        "    \n",
        "\n",
        "  def findBestTresholdPlaceOnFeature(self, feacherNumber):\n",
        "    FT = np.hstack((self.features[feacherNumber],self.targets))\n",
        "    max_acc = [0 , 0]\n",
        "    for i in range(FT.shape[0]):\n",
        "      smaller_filter = FT[:,0] <= FT[i,0]\n",
        "      bigger_filter = FT[:,0] > FT[i,0]\n",
        "      smaller_arr = FT[smaller_filter]\n",
        "      bigger_arr = FT[bigger_filter] \n",
        "      correct = np.bincount(smaller_arr)[np.bincount(smaller_arr).argmax()] + np.bincount(bigger_arr)[np.bincount(bigger_arr).argmax()]\n",
        "      acc = correct / FT.shape[0] \n",
        "      if acc > max_acc[1]:\n",
        "        max_acc = [i,acc]\n",
        "    return max_acc[0]\n",
        "\n",
        "\n",
        "\n",
        "    \n",
        "\n",
        "\n",
        "class decisionTree:\n",
        "  def __init__(self,features , targets , purityTreshold):\n",
        "    self.head = node(features , targets , purityTreshold)\n",
        "\n",
        "\n",
        "\n",
        "# create root\n",
        "# root = Node(1)\n",
        "\n",
        " \n",
        "# root.left      = Node(2);\n",
        "# root.right     = Node(3);\n",
        "   \n",
        "# root.left.left  = Node(4);\n"
      ]
    },
    {
      "cell_type": "code",
      "source": [
        "x = np.array([1,2,3,4,5,1,2,1,1,1])\n",
        "print(\"Original array:\")\n",
        "print(x)\n",
        "  \n",
        "print(\"Most frequent value in the above array:\")\n",
        "print(np.bincount(x)[np.bincount(x).argmax()])"
      ],
      "metadata": {
        "colab": {
          "base_uri": "https://localhost:8080/"
        },
        "id": "vrENvj8_cqzL",
        "outputId": "7a2bffb0-efd0-4c1a-f656-d220ce241306"
      },
      "execution_count": 7,
      "outputs": [
        {
          "output_type": "stream",
          "name": "stdout",
          "text": [
            "Original array:\n",
            "[1 2 3 4 5 1 2 1 1 1]\n",
            "Most frequent value in the above array:\n",
            "5\n"
          ]
        }
      ]
    },
    {
      "cell_type": "code",
      "source": [
        ""
      ],
      "metadata": {
        "id": "kj7JDsdecrba"
      },
      "execution_count": null,
      "outputs": []
    }
  ]
}